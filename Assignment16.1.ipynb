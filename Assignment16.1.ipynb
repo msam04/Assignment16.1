{
 "cells": [
  {
   "cell_type": "code",
   "execution_count": 13,
   "metadata": {},
   "outputs": [
    {
     "name": "stdout",
     "output_type": "stream",
     "text": [
      "(6366, 17)\n",
      "(6366,)\n",
      "Cross Validation Score with 1/5 fold cross validation is:  0.7249513738732067\n",
      "             precision    recall  f1-score   support\n",
      "\n",
      "  No affair       0.75      0.90      0.82       627\n",
      " Had affair       0.62      0.35      0.45       282\n",
      "\n",
      "avg / total       0.71      0.73      0.71       909\n",
      "\n",
      "precision: [0.31023102 0.62025316 1.        ], recall: [1.         0.34751773 0.        ], threshold: [0. 1.]\n",
      "average_precision_score:  0.41796921410428145\n"
     ]
    }
   ],
   "source": [
    "import numpy as np\n",
    "import pandas as pd\n",
    "import statsmodels.api as sm\n",
    "import matplotlib.pyplot as plt\n",
    "from patsy import dmatrices\n",
    "from sklearn.linear_model import LogisticRegression\n",
    "from sklearn.cross_validation import train_test_split\n",
    "from sklearn.metrics import classification_report\n",
    "from sklearn.metrics import precision_recall_curve\n",
    "from sklearn.metrics import average_precision_score\n",
    "from sklearn.cross_validation import cross_val_score\n",
    "#returns record array where columns are accesible using column names\n",
    "dta = sm.datasets.fair.load_pandas().data\n",
    "# add \"affair\" column: 1 represents having affairs, 0 represents not\n",
    "dta['affair'] = (dta.affairs > 0).astype(int)\n",
    "y, X = \\\n",
    "dmatrices('affair ~ rate_marriage + age + yrs_married + children + religious + educ + C(occupation) + C(occupation_husb)',dta, return_type=\"dataframe\")\n",
    "X = X.rename(columns = {'C(occupation)[T.2.0]':'occ_2',\n",
    "'C(occupation)[T.3.0]':'occ_3',\n",
    "'C(occupation)[T.4.0]':'occ_4',\n",
    "'C(occupation)[T.5.0]':'occ_5',\n",
    "'C(occupation)[T.6.0]':'occ_6',\n",
    "'C(occupation_husb)[T.2.0]':'occ_husb_2',\n",
    "'C(occupation_husb)[T.3.0]':'occ_husb_3',\n",
    "'C(occupation_husb)[T.4.0]':'occ_husb_4',\n",
    "'C(occupation_husb)[T.5.0]':'occ_husb_5',\n",
    "'C(occupation_husb)[T.6.0]':'occ_husb_6'})\n",
    "y = np.ravel(y)\n",
    "print(X.shape)\n",
    "print(y.shape)\n",
    "\n",
    "#Split into train, test\n",
    "test_size = X.shape[0] // 7\n",
    "train_x, test_x, train_y, test_y = train_test_split(X, y, test_size = test_size, random_state = 0)\n",
    "\n",
    "#Create model, fit model and make predictions\n",
    "lgr = LogisticRegression()\n",
    "model = lgr.fit(train_x, train_y)\n",
    "pred_y = model.predict(test_x)\n",
    "\n",
    "#Evaluate performance of the model\n",
    "print(\"Cross Validation Score with 1/5 fold cross validation is: \", cross_val_score(lgr, X, y, cv = 5).mean())\n",
    "\n",
    "target_names = ['No affair', 'Had affair']\n",
    "print(classification_report(test_y, pred_y, target_names=target_names))\n",
    "\n",
    "precision, recall, threshold = precision_recall_curve(test_y, pred_y)\n",
    "print(\"precision: {}, recall: {}, threshold: {}\".format(precision  ,recall, threshold))\n",
    "print(\"average_precision_score: \", average_precision_score(test_y, pred_y))      \n"
   ]
  },
  {
   "cell_type": "code",
   "execution_count": null,
   "metadata": {},
   "outputs": [],
   "source": []
  }
 ],
 "metadata": {
  "kernelspec": {
   "display_name": "Python 3",
   "language": "python",
   "name": "python3"
  },
  "language_info": {
   "codemirror_mode": {
    "name": "ipython",
    "version": 3
   },
   "file_extension": ".py",
   "mimetype": "text/x-python",
   "name": "python",
   "nbconvert_exporter": "python",
   "pygments_lexer": "ipython3",
   "version": "3.6.4"
  }
 },
 "nbformat": 4,
 "nbformat_minor": 2
}
